{
  "nbformat": 4,
  "nbformat_minor": 0,
  "metadata": {
    "colab": {
      "provenance": []
    },
    "kernelspec": {
      "name": "python3",
      "display_name": "Python 3"
    },
    "language_info": {
      "name": "python"
    }
  },
  "cells": [
    {
      "cell_type": "code",
      "execution_count": null,
      "metadata": {
        "id": "XxNi2U4-bHdT"
      },
      "outputs": [],
      "source": [
        "import csv\n",
        "import numpy as np"
      ]
    },
    {
      "cell_type": "markdown",
      "source": [
        "Ввод через файл + объединение чисел в один список"
      ],
      "metadata": {
        "id": "U5BDlbDclhni"
      }
    },
    {
      "cell_type": "code",
      "source": [
        "way = \"/content/drive/MyDrive/downloads/spektr.txt\"\n",
        "numbers = []\n",
        "with open(way) as file:\n",
        "    csv_encoder = csv.reader(file, delimiter=\",\")\n",
        "    for row in csv_encoder:\n",
        "        numbers += row"
      ],
      "metadata": {
        "id": "8d21kyPCdIyO"
      },
      "execution_count": null,
      "outputs": []
    },
    {
      "cell_type": "markdown",
      "source": [
        "Функция для очистки элементов от табуляции"
      ],
      "metadata": {
        "id": "a8au5sZulv7K"
      }
    },
    {
      "cell_type": "code",
      "source": [
        "def process_item(num):\n",
        "    if \"\\t\" in num:\n",
        "        index = num.index(\"\\t\")\n",
        "        num = num[: index]\n",
        "    return int(num)\n",
        "\n",
        "\n",
        "# process_item(\"57\\t-0\")\n",
        "numbers = list(map(process_item, numbers))"
      ],
      "metadata": {
        "id": "_c06jLy8itkD"
      },
      "execution_count": null,
      "outputs": []
    },
    {
      "cell_type": "markdown",
      "source": [
        "Вычисление среднего и среднеквадратичного отклонения"
      ],
      "metadata": {
        "id": "cZAD8TeLmSRW"
      }
    },
    {
      "cell_type": "code",
      "source": [
        "av = sum(numbers) / len(numbers)\n",
        "disp = sum(map(lambda x: (x - av) ** 2, numbers)) / len(numbers)\n",
        "rms = disp ** 0.5\n",
        "print(av, rms)"
      ],
      "metadata": {
        "colab": {
          "base_uri": "https://localhost:8080/"
        },
        "collapsed": true,
        "id": "rdqkMtfOjkVJ",
        "outputId": "80db506d-b2a4-49af-e39f-29c3ca2a344f"
      },
      "execution_count": null,
      "outputs": [
        {
          "output_type": "stream",
          "name": "stdout",
          "text": [
            "395.0295358649789 306.9004236127881\n"
          ]
        }
      ]
    },
    {
      "cell_type": "markdown",
      "source": [
        "Проверка с помощью встроенных функция"
      ],
      "metadata": {
        "id": "y8pEsAkzmZOa"
      }
    },
    {
      "cell_type": "code",
      "source": [
        "arr = np.array(numbers)\n",
        "print(arr.mean(), arr.std())"
      ],
      "metadata": {
        "colab": {
          "base_uri": "https://localhost:8080/"
        },
        "id": "-mJkpgGPk9s6",
        "outputId": "9e1964ce-be2c-4487-9cb1-84d562f3f058"
      },
      "execution_count": null,
      "outputs": [
        {
          "output_type": "stream",
          "name": "stdout",
          "text": [
            "395.0295358649789 306.90042361278785\n"
          ]
        }
      ]
    }
  ]
}